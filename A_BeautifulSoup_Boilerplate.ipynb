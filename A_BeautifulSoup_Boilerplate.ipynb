{
 "cells": [
  {
   "cell_type": "markdown",
   "metadata": {},
   "source": [
    "# A BeautifulSoup Boilerplate \n",
    "(Let retrieve contents from a web page)\n",
    "\n",
    "A couple of notes on Beautiful Soup:\n",
    "* Do not execute JavaScript\n",
    "* Allow us to use Cascading Style Sheets selectors\n",
    "\n",
    "\n",
    "In the follow notebook I will show:\n",
    "\n",
    "1. Retrieve the page\n",
    "2. Select specific HTML nodes\n",
    "3. Save content in CSV file"
   ]
  },
  {
   "cell_type": "markdown",
   "metadata": {
    "ExecuteTime": {
     "end_time": "2018-03-27T14:44:00.056263Z",
     "start_time": "2018-03-27T14:44:00.050499Z"
    }
   },
   "source": [
    "## Import and preparation"
   ]
  },
  {
   "cell_type": "code",
   "execution_count": 16,
   "metadata": {
    "ExecuteTime": {
     "end_time": "2018-03-27T14:40:46.880400Z",
     "start_time": "2018-03-27T14:40:41.480078Z"
    },
    "collapsed": true
   },
   "outputs": [],
   "source": [
    "import requests\n",
    "from bs4 import BeautifulSoup\n",
    "\n",
    "import pandas as pd\n",
    "from pathlib import Path\n",
    "\n",
    "# User Agent will allow us to present the request as from a web browser\n",
    "USER_AGENT_HEADER = {'User-Agent': 'Mozilla/5.0 (iPad; CPU OS 9_3_1 like Mac OS X) ApclearpleWebKit/601.1.46 (KHTML, like Gecko) Version/9.0 Mobile/13E238 Safari/601.1'}\n",
    "# URL is the page we will scrape da from \n",
    "URL = \"https://github.com/linediconsine\"\n",
    "# Where I want to save the data\n",
    "CSV_FILE = \"simple_test.csv\""
   ]
  },
  {
   "cell_type": "markdown",
   "metadata": {
    "ExecuteTime": {
     "end_time": "2018-03-27T14:44:31.335421Z",
     "start_time": "2018-03-27T14:44:31.330156Z"
    }
   },
   "source": [
    "## 1. Retrieve the page content\n",
    "( And yes that's a 2 lines of code for that)"
   ]
  },
  {
   "cell_type": "code",
   "execution_count": 11,
   "metadata": {
    "ExecuteTime": {
     "end_time": "2018-03-27T14:34:03.618740Z",
     "start_time": "2018-03-27T14:34:02.874735Z"
    },
    "collapsed": true
   },
   "outputs": [],
   "source": [
    "page = requests.get(URL,headers=USER_AGENT_HEADER)\n",
    "soup = BeautifulSoup(page.content, 'html5lib') \n",
    "# Note: 'html5lib' is the best library for CSS selectors in my test"
   ]
  },
  {
   "cell_type": "markdown",
   "metadata": {},
   "source": [
    "## 2. Select specific HTML node"
   ]
  },
  {
   "cell_type": "markdown",
   "metadata": {
    "ExecuteTime": {
     "end_time": "2018-03-27T14:45:32.057745Z",
     "start_time": "2018-03-27T14:45:32.046582Z"
    }
   },
   "source": [
    "### CSS Selector\n",
    "\n",
    "I will use CSS selectors because are simpler, faster than other selectors.\n",
    "A CSS selector is the part of a CSS rule set that actually selects the content you want to style. Let's look at some example : \n",
    "\n",
    "**Syntax:**\n",
    "\n",
    "```     soup.select('CSS SELECTOR')   ```\n",
    "\n",
    "### CSS SELECTOR\n",
    "\n",
    "* Class = .className\n",
    "\n",
    "```python\n",
    "soup.select('.slideshow-intro-content')```\n",
    "\n",
    "* Id = #IdName\n",
    "\n",
    "```python\n",
    "i.e soup.select('#elmentiD')```\n",
    "\n",
    "* attribute = element[attribute-name] \n",
    "\n",
    "```python\n",
    "soup.select('div[data-timestamp]')```\n",
    "\n",
    "* *Concetenate*\n",
    "\n",
    "```python\n",
    ".slideshow-intro-content * ```\n",
    "\n",
    "* *Multiple nodes in the same selection*\n",
    "\n",
    "```python\n",
    "soup.select(\".post-content p,.post-content li\")```\n",
    "\n",
    "**References**\n",
    "\n",
    "*CSS selectors guide*\n",
    "https://www.w3schools.com/cssref/css_selectors.asp\n",
    "\n",
    "*Beautiful Soup 4 Cheatsheet*\n",
    "http://akul.me/blog/2016/beautifulsoup-cheatsheet/\n",
    "\n",
    "\n",
    "\n",
    "## Retrive a single element"
   ]
  },
  {
   "cell_type": "code",
   "execution_count": 36,
   "metadata": {
    "ExecuteTime": {
     "end_time": "2018-03-27T15:41:04.513096Z",
     "start_time": "2018-03-27T15:41:04.495879Z"
    }
   },
   "outputs": [
    {
     "data": {
      "text/plain": [
       "'Marco A'"
      ]
     },
     "metadata": {},
     "output_type": "display_data"
    }
   ],
   "source": [
    "# Retrive a single element\n",
    "\n",
    "# NOTE: This approach avoid crash if an element is missing\n",
    "user_name = \"\"\n",
    "if soup.select('h1.vcard-names .p-name '):\n",
    "    user_name = soup.select('h1.vcard-names .p-name ')[0].get_text()\n",
    "\n",
    "# This code instead will crash if the element don't exist :\n",
    "# title = soup.select('h1.vcard-names .p-name ')[0].get_text()\n",
    "display(user_name)"
   ]
  },
  {
   "cell_type": "markdown",
   "metadata": {
    "ExecuteTime": {
     "end_time": "2018-03-27T15:34:54.118150Z",
     "start_time": "2018-03-27T15:34:54.097743Z"
    }
   },
   "source": [
    "### Retrieve multiple elements"
   ]
  },
  {
   "cell_type": "code",
   "execution_count": 34,
   "metadata": {
    "ExecuteTime": {
     "end_time": "2018-03-27T15:40:41.779549Z",
     "start_time": "2018-03-27T15:40:41.759191Z"
    }
   },
   "outputs": [
    {
     "data": {
      "text/plain": [
       "[<span class=\"repo js-repo\" title=\"UkuTuna\">UkuTuna</span>,\n",
       " <span class=\"repo js-repo\" title=\"iPython-Snippets\">iPython-Snippets</span>,\n",
       " <span class=\"repo js-repo\" title=\"TheFoxGame\">TheFoxGame</span>]"
      ]
     },
     "metadata": {},
     "output_type": "display_data"
    }
   ],
   "source": [
    "# Retrive multiple elements (note: output are HTML nodes )\n",
    "\n",
    "array_repo = soup.select('.repo')\n",
    "display(article_p)"
   ]
  },
  {
   "cell_type": "code",
   "execution_count": 33,
   "metadata": {
    "ExecuteTime": {
     "end_time": "2018-03-27T15:40:39.011932Z",
     "start_time": "2018-03-27T15:40:38.981584Z"
    }
   },
   "outputs": [
    {
     "data": {
      "text/plain": [
       "'UkuTuna'"
      ]
     },
     "metadata": {},
     "output_type": "display_data"
    },
    {
     "data": {
      "text/plain": [
       "'iPython-Snippets'"
      ]
     },
     "metadata": {},
     "output_type": "display_data"
    },
    {
     "data": {
      "text/plain": [
       "'TheFoxGame'"
      ]
     },
     "metadata": {},
     "output_type": "display_data"
    }
   ],
   "source": [
    "# Clean the content from the HTML container\n",
    "\n",
    "for repo in array_repo:\n",
    "    display(repo.get_text())"
   ]
  },
  {
   "cell_type": "markdown",
   "metadata": {},
   "source": [
    "## 3. Save content in CSV file\n",
    "\n",
    "### Create a DataFrame"
   ]
  },
  {
   "cell_type": "code",
   "execution_count": 47,
   "metadata": {
    "ExecuteTime": {
     "end_time": "2018-03-27T15:47:53.135782Z",
     "start_time": "2018-03-27T15:47:53.117352Z"
    }
   },
   "outputs": [
    {
     "data": {
      "text/html": [
       "<div>\n",
       "<style>\n",
       "    .dataframe thead tr:only-child th {\n",
       "        text-align: right;\n",
       "    }\n",
       "\n",
       "    .dataframe thead th {\n",
       "        text-align: left;\n",
       "    }\n",
       "\n",
       "    .dataframe tbody tr th {\n",
       "        vertical-align: top;\n",
       "    }\n",
       "</style>\n",
       "<table border=\"1\" class=\"dataframe\">\n",
       "  <thead>\n",
       "    <tr style=\"text-align: right;\">\n",
       "      <th></th>\n",
       "      <th>repo</th>\n",
       "      <th>user_name</th>\n",
       "    </tr>\n",
       "  </thead>\n",
       "  <tbody>\n",
       "    <tr>\n",
       "      <th>0</th>\n",
       "      <td>UkuTuna</td>\n",
       "      <td>Marco A</td>\n",
       "    </tr>\n",
       "  </tbody>\n",
       "</table>\n",
       "</div>"
      ],
      "text/plain": [
       "      repo user_name\n",
       "0  UkuTuna   Marco A"
      ]
     },
     "metadata": {},
     "output_type": "display_data"
    }
   ],
   "source": [
    "d = {'user_name': user_name , 'repo' : array_repo[0].get_text()}\n",
    "df = pd.DataFrame(data=d, index=[0])\n",
    "display(df)"
   ]
  },
  {
   "cell_type": "markdown",
   "metadata": {
    "ExecuteTime": {
     "end_time": "2018-03-27T15:41:57.107791Z",
     "start_time": "2018-03-27T15:41:57.094359Z"
    }
   },
   "source": [
    "### Save the df dataframe in a CSV file\n",
    "* Create a csv file if file doesn't exist\n",
    "* Append to a CSV file a new row if file exist"
   ]
  },
  {
   "cell_type": "code",
   "execution_count": 40,
   "metadata": {
    "ExecuteTime": {
     "end_time": "2018-03-27T15:42:20.320325Z",
     "start_time": "2018-03-27T15:42:20.307646Z"
    },
    "collapsed": true
   },
   "outputs": [],
   "source": [
    "df.to_csv(CSV_FILE, mode='a', header=not(Path(CSV_FILE).is_file()),encoding=\"utf-16\")"
   ]
  }
 ],
 "metadata": {
  "kernelspec": {
   "display_name": "Python 3",
   "language": "python",
   "name": "python3"
  },
  "language_info": {
   "codemirror_mode": {
    "name": "ipython",
    "version": 3
   },
   "file_extension": ".py",
   "mimetype": "text/x-python",
   "name": "python",
   "nbconvert_exporter": "python",
   "pygments_lexer": "ipython3",
   "version": "3.6.3"
  },
  "varInspector": {
   "cols": {
    "lenName": 16,
    "lenType": 16,
    "lenVar": 40
   },
   "kernels_config": {
    "python": {
     "delete_cmd_postfix": "",
     "delete_cmd_prefix": "del ",
     "library": "var_list.py",
     "varRefreshCmd": "print(var_dic_list())"
    },
    "r": {
     "delete_cmd_postfix": ") ",
     "delete_cmd_prefix": "rm(",
     "library": "var_list.r",
     "varRefreshCmd": "cat(var_dic_list()) "
    }
   },
   "types_to_exclude": [
    "module",
    "function",
    "builtin_function_or_method",
    "instance",
    "_Feature"
   ],
   "window_display": false
  }
 },
 "nbformat": 4,
 "nbformat_minor": 2
}
